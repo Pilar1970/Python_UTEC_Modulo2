{
  "nbformat": 4,
  "nbformat_minor": 0,
  "metadata": {
    "colab": {
      "provenance": [],
      "include_colab_link": true
    },
    "kernelspec": {
      "name": "python3",
      "display_name": "Python 3"
    },
    "language_info": {
      "name": "python"
    }
  },
  "cells": [
    {
      "cell_type": "markdown",
      "metadata": {
        "id": "view-in-github",
        "colab_type": "text"
      },
      "source": [
        "<a href=\"https://colab.research.google.com/github/Pilar1970/Python_UTEC_Modulo2/blob/main/modulo_2/Pandas_Dataframes.ipynb\" target=\"_parent\"><img src=\"https://colab.research.google.com/assets/colab-badge.svg\" alt=\"Open In Colab\"/></a>"
      ]
    },
    {
      "cell_type": "markdown",
      "source": [
        "<img src=\"https://www.ctic.uni.edu.pe/wp-content/uploads/2022/04/588px-x-348px-web-1.png\" alt=\"HTML5 Icon\" width=\"900\" height=\"350\" >"
      ],
      "metadata": {
        "id": "inV2ccfgWebA"
      }
    },
    {
      "cell_type": "markdown",
      "source": [
        "<h1 align=center><font size = 5> ESTRUCTURAS DE DATOS - PANDAS DATAFRAMES\n",
        "</font></h1>\n",
        "\n",
        "---"
      ],
      "metadata": {
        "id": "C8hWGHjoWhA8"
      }
    },
    {
      "cell_type": "markdown",
      "source": [
        "## Tabla de Contenidos\n",
        "\n",
        "<div class=\"alert alert-block alert-info\" style=\"margin-top: 20px\">\n",
        "\n",
        "<font size = 3>\n",
        "\n",
        "1. <a href=\"#item31\">Series en Pandas</a>\n",
        "2. <a href=\"#item32\">DataFrames en Pandas</a>\n",
        "3. <a href=\"#item33\">Indexación y selección de datos en DataFrames</a>\n",
        "4. <a href=\"#item34\">Limpieza y manipulación de datos</a>\n",
        "\n",
        "</font>\n",
        "</div>\n",
        "\n",
        "---"
      ],
      "metadata": {
        "id": "YdCZFf-kkwQV"
      }
    },
    {
      "cell_type": "markdown",
      "source": [
        "## 1. Series en Pandas\n",
        "\n"
      ],
      "metadata": {
        "id": "2QIsQr0NW5pr"
      }
    },
    {
      "cell_type": "markdown",
      "source": [
        "* Es una estructura de datos unidimensional que puede contener datos de cualquier tipo (enteros, flotantes, cadenas, etc.). Es similar a una columna en una tabla o una matriz unidimensional, y se utiliza para representar y manipular conjuntos de datos unidimensionales.\n",
        "\n",
        "* Una Serie consta de dos componentes principales: los datos y el índice. Los datos representan los valores almacenados en la Serie, mientras que el índice es una etiqueta asociada a cada elemento de los datos que permite identificar y acceder a ellos de manera eficiente."
      ],
      "metadata": {
        "id": "vBGjiaw5bXu7"
      }
    },
    {
      "cell_type": "markdown",
      "source": [
        "### Creación de Series"
      ],
      "metadata": {
        "id": "lZLenRbMdg1J"
      }
    },
    {
      "cell_type": "markdown",
      "source": [
        "Crear una Serie a partir de una lista:"
      ],
      "metadata": {
        "id": "YK6uS4L6Yndc"
      }
    },
    {
      "cell_type": "code",
      "source": [
        "import pandas as pd\n",
        "\n",
        "datos = [10, 20, 30, 40, 50]  # listas de valores\n",
        "serie = pd.Series(datos)      # llamamos la lista  Es comando de transformacióm a serie. La serie pierede propiedades de columna\n",
        "print(serie)"
      ],
      "metadata": {
        "id": "4RjSrSjbYmNu",
        "outputId": "088f2d5e-d8c1-4c87-89e9-391df4dd8cc3",
        "colab": {
          "base_uri": "https://localhost:8080/"
        }
      },
      "execution_count": 8,
      "outputs": [
        {
          "output_type": "stream",
          "name": "stdout",
          "text": [
            "0    10\n",
            "1    20\n",
            "2    30\n",
            "3    40\n",
            "4    50\n",
            "dtype: int64\n"
          ]
        }
      ]
    },
    {
      "cell_type": "markdown",
      "source": [
        "Crear una Serie a partir de un diccionario:"
      ],
      "metadata": {
        "id": "g-P3dX-5Ytnd"
      }
    },
    {
      "cell_type": "code",
      "source": [
        "datos = {'a': 10, 'b': 20, 'c': 30, 'd': 40, 'e': 50}\n",
        "serie = pd.Series(datos)\n",
        "print(serie)\n"
      ],
      "metadata": {
        "id": "LFfVRnRKYqjd"
      },
      "execution_count": null,
      "outputs": []
    },
    {
      "cell_type": "code",
      "source": [
        "my_dict ={\"a\": 10,\n",
        "         \"b\": 20,\n",
        "         \"c\": 30,\n",
        "         \"d\": 40,\n",
        "         \"e\": 50}\n",
        "serie = pd.Series(my_dict)\n",
        "print(serie)"
      ],
      "metadata": {
        "id": "LWf-LE9TJveJ",
        "outputId": "86de83f9-adaf-4db3-cff8-f6e00c129757",
        "colab": {
          "base_uri": "https://localhost:8080/"
        }
      },
      "execution_count": 10,
      "outputs": [
        {
          "output_type": "stream",
          "name": "stdout",
          "text": [
            "a    10\n",
            "b    20\n",
            "c    30\n",
            "d    40\n",
            "e    50\n",
            "dtype: int64\n"
          ]
        }
      ]
    },
    {
      "cell_type": "markdown",
      "source": [],
      "metadata": {
        "id": "DEGxMJmWNLZj"
      }
    },
    {
      "cell_type": "markdown",
      "source": [
        "Crear una Serie con etiquetas personalizadas:"
      ],
      "metadata": {
        "id": "EXbEbXK5Y9st"
      }
    },
    {
      "cell_type": "code",
      "source": [
        "datos = [10, 20, 30, 40, 50]\n",
        "etiquetas = ['A', 'B', 'C', 'D', 'E']\n",
        "\n",
        "serie = pd.Series(datos, index=etiquetas)\n",
        "print(serie)"
      ],
      "metadata": {
        "id": "xK_fpO1iY9Ub"
      },
      "execution_count": null,
      "outputs": []
    },
    {
      "cell_type": "markdown",
      "source": [
        "Crear una Serie a partir de un arreglo de NumPy:"
      ],
      "metadata": {
        "id": "d_wa0HYSaBdu"
      }
    },
    {
      "cell_type": "code",
      "source": [
        "import numpy as np\n",
        "\n",
        "arreglo = np.array([10, 20, 30, 40, 50])\n",
        "serie = pd.Series(arreglo)\n",
        "print(serie)\n"
      ],
      "metadata": {
        "id": "pM-WtXb3aClQ"
      },
      "execution_count": null,
      "outputs": []
    },
    {
      "cell_type": "markdown",
      "source": [
        "<b> Ejercicio 1 </b>\n",
        "\n",
        "Crear una Serie con los siguientes datos y mostrarla por pantalla:\n",
        "\n",
        "* Datos: [25, 10, 15, 30, 20]\n",
        "* Índices: ['A', 'B', 'C', 'D', 'E']"
      ],
      "metadata": {
        "id": "qLMaVn56bmUW"
      }
    },
    {
      "cell_type": "code",
      "source": [],
      "metadata": {
        "id": "MMwQjuZQOInT"
      },
      "execution_count": null,
      "outputs": []
    },
    {
      "cell_type": "markdown",
      "source": [
        "\n",
        "<b> Ejercicio 2 </b>\n",
        "\n",
        "Crear una Serie con nombres de ciudades como índices y sus respectivas poblaciones como datos."
      ],
      "metadata": {
        "id": "hL-Ji6M4b8n-"
      }
    },
    {
      "cell_type": "code",
      "source": [
        "my_dict ={\"Lima\" : 9674755,\n",
        "          \"Trujillo\": 919899,  #si colocas repetido Lima, te acepta y si lo hace es muy peligroso\n",
        "          \"Arequipa\": 1000008}\n",
        "\n",
        "pd.Series(my_dict)"
      ],
      "metadata": {
        "id": "e-QgaBKtNNZ6",
        "outputId": "86ad33fa-41db-4cfe-9fac-3a1297e62282",
        "colab": {
          "base_uri": "https://localhost:8080/"
        }
      },
      "execution_count": 9,
      "outputs": [
        {
          "output_type": "execute_result",
          "data": {
            "text/plain": [
              "Lima        9674755\n",
              "Trujillo     919899\n",
              "Arequipa    1000008\n",
              "dtype: int64"
            ]
          },
          "metadata": {},
          "execution_count": 9
        }
      ]
    },
    {
      "cell_type": "markdown",
      "source": [
        "### Indexación y selección de datos"
      ],
      "metadata": {
        "id": "QygSkvocdSPn"
      }
    },
    {
      "cell_type": "code",
      "source": [
        "import pandas as pd\n",
        "\n",
        "datos = [10, 20, 30, 40, 50]\n",
        "etiquetas = ['A', 'B', 'C', 'D', 'E']\n",
        "serie = pd.Series(datos, index = etiquetas)\n",
        "print(serie)"
      ],
      "metadata": {
        "id": "YhXbSYPidSc9"
      },
      "execution_count": null,
      "outputs": []
    },
    {
      "cell_type": "markdown",
      "source": [
        "Acceder a un elemento específico utilizando una etiqueta:"
      ],
      "metadata": {
        "id": "_ky-DMKGfP9S"
      }
    },
    {
      "cell_type": "code",
      "source": [
        "print(serie['B'])"
      ],
      "metadata": {
        "id": "XgLUsuyle9k2"
      },
      "execution_count": null,
      "outputs": []
    },
    {
      "cell_type": "markdown",
      "source": [
        "Acceder a varios elementos utilizando una lista de etiquetas:"
      ],
      "metadata": {
        "id": "G6eGDtsxfN8A"
      }
    },
    {
      "cell_type": "code",
      "source": [
        "print(serie[['A', 'C', 'E']])"
      ],
      "metadata": {
        "id": "ozPguP_bfDfR"
      },
      "execution_count": null,
      "outputs": []
    },
    {
      "cell_type": "markdown",
      "source": [
        "Acceder a elementos utilizando indexación basada en posición:"
      ],
      "metadata": {
        "id": "IG2p8I8DfZAe"
      }
    },
    {
      "cell_type": "code",
      "source": [
        "print(serie[1])  # Acceder al segundo elemento\n",
        "print(serie[1:4])  # Acceder a un rango de elementos (exclusivo)"
      ],
      "metadata": {
        "id": "EhU2_s2Ffbwh"
      },
      "execution_count": null,
      "outputs": []
    },
    {
      "cell_type": "markdown",
      "source": [
        "Acceder a elementos utilizando una condición:"
      ],
      "metadata": {
        "id": "priuGnZBfgl2"
      }
    },
    {
      "cell_type": "code",
      "source": [
        "print(serie[serie > 30])\n"
      ],
      "metadata": {
        "id": "cS166o-2fiQz"
      },
      "execution_count": null,
      "outputs": []
    },
    {
      "cell_type": "markdown",
      "source": [
        "<b> Ejercicio 1 </b>\n",
        "\n",
        "Crear una Serie con nombres de ciudades como índices y sus respectivas poblaciones como datos. Luego, seleccionar las ciudades con población superior a 1 millón."
      ],
      "metadata": {
        "id": "IGYji8fbfm2D"
      }
    },
    {
      "cell_type": "code",
      "source": [
        "ciudades = {\"Lima\": 9674755,\n",
        "           \"Chiclayo\": 552508,\n",
        "           \"Eten\": 13649,\n",
        "           \"Trujillo\":970016}\n",
        "serie=pd.Series(ciudades)\n",
        "serie[ciudades]"
      ],
      "metadata": {
        "id": "5N73PV34UXHG",
        "outputId": "1691b5ad-d6ee-4460-8282-d0f2336ae4bc",
        "colab": {
          "base_uri": "https://localhost:8080/"
        }
      },
      "execution_count": 23,
      "outputs": [
        {
          "output_type": "stream",
          "name": "stderr",
          "text": [
            "<ipython-input-23-5139bada3760>:6: FutureWarning: Passing a dict as an indexer is deprecated and will raise in a future version. Use a list instead.\n",
            "  serie[ciudades]\n"
          ]
        },
        {
          "output_type": "execute_result",
          "data": {
            "text/plain": [
              "Lima        9674755\n",
              "Chiclayo     552508\n",
              "Eten          13649\n",
              "Trujillo     970016\n",
              "dtype: int64"
            ]
          },
          "metadata": {},
          "execution_count": 23
        }
      ]
    },
    {
      "cell_type": "markdown",
      "source": [
        "<b> Ejercicio 2 </b>\n",
        "\n",
        "Sobre el mismo ejercicio extraiga el registro de dos ciudades específicas (usted decida cuáles)."
      ],
      "metadata": {
        "id": "4pRKldJGgJL1"
      }
    },
    {
      "cell_type": "code",
      "source": [
        "serie[[0,2,3]]"
      ],
      "metadata": {
        "id": "8PjjWfysV1XN",
        "outputId": "4a0e9e7f-636c-42c6-a5d9-d06f25b70558",
        "colab": {
          "base_uri": "https://localhost:8080/"
        }
      },
      "execution_count": 25,
      "outputs": [
        {
          "output_type": "execute_result",
          "data": {
            "text/plain": [
              "Lima        9674755\n",
              "Eten          13649\n",
              "Trujillo     970016\n",
              "dtype: int64"
            ]
          },
          "metadata": {},
          "execution_count": 25
        }
      ]
    },
    {
      "cell_type": "code",
      "source": [
        "serie.loc[[True, False, True, True]] #solo me quedo con lo que quiero segun el indice"
      ],
      "metadata": {
        "id": "H43h9B2cWEMe",
        "outputId": "213d9a55-8d19-4290-a45e-487f607f2a66",
        "colab": {
          "base_uri": "https://localhost:8080/"
        }
      },
      "execution_count": 26,
      "outputs": [
        {
          "output_type": "execute_result",
          "data": {
            "text/plain": [
              "Lima        9674755\n",
              "Eten          13649\n",
              "Trujillo     970016\n",
              "dtype: int64"
            ]
          },
          "metadata": {},
          "execution_count": 26
        }
      ]
    },
    {
      "cell_type": "code",
      "source": [
        "serie= pd.Series(range(1,21))\n",
        "a= serie>= 10\n",
        "b= serie%3== 0\n",
        "serie[a y b]  # es con y griega\n",
        "serie.loc[a y b]"
      ],
      "metadata": {
        "id": "Ae6WCMpeWg33",
        "outputId": "8857a6f4-d5a8-4640-f377-c7fa39b6bf4e",
        "colab": {
          "base_uri": "https://localhost:8080/",
          "height": 363
        }
      },
      "execution_count": 28,
      "outputs": [
        {
          "output_type": "error",
          "ename": "KeyError",
          "evalue": "ignored",
          "traceback": [
            "\u001b[0;31m---------------------------------------------------------------------------\u001b[0m",
            "\u001b[0;31mKeyError\u001b[0m                                  Traceback (most recent call last)",
            "\u001b[0;32m<ipython-input-28-ab41721b88c6>\u001b[0m in \u001b[0;36m<cell line: 4>\u001b[0;34m()\u001b[0m\n\u001b[1;32m      2\u001b[0m \u001b[0ma\u001b[0m\u001b[0;34m=\u001b[0m \u001b[0mserie\u001b[0m\u001b[0;34m>=\u001b[0m \u001b[0;36m10\u001b[0m\u001b[0;34m\u001b[0m\u001b[0;34m\u001b[0m\u001b[0m\n\u001b[1;32m      3\u001b[0m \u001b[0mb\u001b[0m\u001b[0;34m=\u001b[0m \u001b[0mserie\u001b[0m\u001b[0;34m%\u001b[0m\u001b[0;36m3\u001b[0m\u001b[0;34m==\u001b[0m \u001b[0;36m0\u001b[0m\u001b[0;34m\u001b[0m\u001b[0;34m\u001b[0m\u001b[0m\n\u001b[0;32m----> 4\u001b[0;31m \u001b[0mserie\u001b[0m\u001b[0;34m[\u001b[0m\u001b[0ma\u001b[0m\u001b[0;34m,\u001b[0m\u001b[0mb\u001b[0m\u001b[0;34m]\u001b[0m  \u001b[0;31m# es con y griega\u001b[0m\u001b[0;34m\u001b[0m\u001b[0;34m\u001b[0m\u001b[0m\n\u001b[0m\u001b[1;32m      5\u001b[0m \u001b[0mserie\u001b[0m\u001b[0;34m.\u001b[0m\u001b[0mloc\u001b[0m\u001b[0;34m[\u001b[0m\u001b[0ma\u001b[0m\u001b[0;34m,\u001b[0m \u001b[0mb\u001b[0m\u001b[0;34m]\u001b[0m\u001b[0;34m\u001b[0m\u001b[0;34m\u001b[0m\u001b[0m\n",
            "\u001b[0;32m/usr/local/lib/python3.10/dist-packages/pandas/core/series.py\u001b[0m in \u001b[0;36m__getitem__\u001b[0;34m(self, key)\u001b[0m\n\u001b[1;32m   1005\u001b[0m             \u001b[0;32mreturn\u001b[0m \u001b[0mself\u001b[0m\u001b[0;34m.\u001b[0m\u001b[0m_get_values\u001b[0m\u001b[0;34m(\u001b[0m\u001b[0mkey\u001b[0m\u001b[0;34m)\u001b[0m\u001b[0;34m\u001b[0m\u001b[0;34m\u001b[0m\u001b[0m\n\u001b[1;32m   1006\u001b[0m \u001b[0;34m\u001b[0m\u001b[0m\n\u001b[0;32m-> 1007\u001b[0;31m         \u001b[0;32mreturn\u001b[0m \u001b[0mself\u001b[0m\u001b[0;34m.\u001b[0m\u001b[0m_get_with\u001b[0m\u001b[0;34m(\u001b[0m\u001b[0mkey\u001b[0m\u001b[0;34m)\u001b[0m\u001b[0;34m\u001b[0m\u001b[0;34m\u001b[0m\u001b[0m\n\u001b[0m\u001b[1;32m   1008\u001b[0m \u001b[0;34m\u001b[0m\u001b[0m\n\u001b[1;32m   1009\u001b[0m     \u001b[0;32mdef\u001b[0m \u001b[0m_get_with\u001b[0m\u001b[0;34m(\u001b[0m\u001b[0mself\u001b[0m\u001b[0;34m,\u001b[0m \u001b[0mkey\u001b[0m\u001b[0;34m)\u001b[0m\u001b[0;34m:\u001b[0m\u001b[0;34m\u001b[0m\u001b[0;34m\u001b[0m\u001b[0m\n",
            "\u001b[0;32m/usr/local/lib/python3.10/dist-packages/pandas/core/series.py\u001b[0m in \u001b[0;36m_get_with\u001b[0;34m(self, key)\u001b[0m\n\u001b[1;32m   1020\u001b[0m             )\n\u001b[1;32m   1021\u001b[0m         \u001b[0;32melif\u001b[0m \u001b[0misinstance\u001b[0m\u001b[0;34m(\u001b[0m\u001b[0mkey\u001b[0m\u001b[0;34m,\u001b[0m \u001b[0mtuple\u001b[0m\u001b[0;34m)\u001b[0m\u001b[0;34m:\u001b[0m\u001b[0;34m\u001b[0m\u001b[0;34m\u001b[0m\u001b[0m\n\u001b[0;32m-> 1022\u001b[0;31m             \u001b[0;32mreturn\u001b[0m \u001b[0mself\u001b[0m\u001b[0;34m.\u001b[0m\u001b[0m_get_values_tuple\u001b[0m\u001b[0;34m(\u001b[0m\u001b[0mkey\u001b[0m\u001b[0;34m)\u001b[0m\u001b[0;34m\u001b[0m\u001b[0;34m\u001b[0m\u001b[0m\n\u001b[0m\u001b[1;32m   1023\u001b[0m \u001b[0;34m\u001b[0m\u001b[0m\n\u001b[1;32m   1024\u001b[0m         \u001b[0;32melif\u001b[0m \u001b[0;32mnot\u001b[0m \u001b[0mis_list_like\u001b[0m\u001b[0;34m(\u001b[0m\u001b[0mkey\u001b[0m\u001b[0;34m)\u001b[0m\u001b[0;34m:\u001b[0m\u001b[0;34m\u001b[0m\u001b[0;34m\u001b[0m\u001b[0m\n",
            "\u001b[0;32m/usr/local/lib/python3.10/dist-packages/pandas/core/series.py\u001b[0m in \u001b[0;36m_get_values_tuple\u001b[0;34m(self, key)\u001b[0m\n\u001b[1;32m   1058\u001b[0m \u001b[0;34m\u001b[0m\u001b[0m\n\u001b[1;32m   1059\u001b[0m         \u001b[0;32mif\u001b[0m \u001b[0;32mnot\u001b[0m \u001b[0misinstance\u001b[0m\u001b[0;34m(\u001b[0m\u001b[0mself\u001b[0m\u001b[0;34m.\u001b[0m\u001b[0mindex\u001b[0m\u001b[0;34m,\u001b[0m \u001b[0mMultiIndex\u001b[0m\u001b[0;34m)\u001b[0m\u001b[0;34m:\u001b[0m\u001b[0;34m\u001b[0m\u001b[0;34m\u001b[0m\u001b[0m\n\u001b[0;32m-> 1060\u001b[0;31m             \u001b[0;32mraise\u001b[0m \u001b[0mKeyError\u001b[0m\u001b[0;34m(\u001b[0m\u001b[0;34m\"key of type tuple not found and not a MultiIndex\"\u001b[0m\u001b[0;34m)\u001b[0m\u001b[0;34m\u001b[0m\u001b[0;34m\u001b[0m\u001b[0m\n\u001b[0m\u001b[1;32m   1061\u001b[0m \u001b[0;34m\u001b[0m\u001b[0m\n\u001b[1;32m   1062\u001b[0m         \u001b[0;31m# If key is contained, would have returned by now\u001b[0m\u001b[0;34m\u001b[0m\u001b[0;34m\u001b[0m\u001b[0m\n",
            "\u001b[0;31mKeyError\u001b[0m: 'key of type tuple not found and not a MultiIndex'"
          ]
        }
      ]
    },
    {
      "cell_type": "markdown",
      "source": [
        "### Operaciones básicas con Series"
      ],
      "metadata": {
        "id": "Zb-sr2VcdkNA"
      }
    },
    {
      "cell_type": "code",
      "source": [
        "import pandas as pd\n",
        "\n",
        "serie1 = pd.Series([10, 20, 30, 40, 50])\n",
        "serie2 = pd.Series([5, 15, 25, 35, 45])"
      ],
      "metadata": {
        "id": "i-9F7xWIdns5"
      },
      "execution_count": 31,
      "outputs": []
    },
    {
      "cell_type": "markdown",
      "source": [
        "Sumar dos Series:\n"
      ],
      "metadata": {
        "id": "pcrmAFAVguAu"
      }
    },
    {
      "cell_type": "code",
      "source": [
        "suma = serie1 + serie2\n",
        "print(suma)"
      ],
      "metadata": {
        "id": "bm8xwMtXgqOr",
        "outputId": "e1ce805d-6782-4976-f156-31f23cc7985b",
        "colab": {
          "base_uri": "https://localhost:8080/"
        }
      },
      "execution_count": 32,
      "outputs": [
        {
          "output_type": "stream",
          "name": "stdout",
          "text": [
            "0    15\n",
            "1    35\n",
            "2    55\n",
            "3    75\n",
            "4    95\n",
            "dtype: int64\n"
          ]
        }
      ]
    },
    {
      "cell_type": "markdown",
      "source": [
        "Restar dos Series:\n"
      ],
      "metadata": {
        "id": "fi7DdhIHgyU4"
      }
    },
    {
      "cell_type": "code",
      "source": [
        "resta = serie1 - serie2\n",
        "print(resta)"
      ],
      "metadata": {
        "id": "-zh6bEyygxBd",
        "outputId": "9ead2521-069b-4713-f619-758079931e84",
        "colab": {
          "base_uri": "https://localhost:8080/"
        }
      },
      "execution_count": 33,
      "outputs": [
        {
          "output_type": "stream",
          "name": "stdout",
          "text": [
            "0    5\n",
            "1    5\n",
            "2    5\n",
            "3    5\n",
            "4    5\n",
            "dtype: int64\n"
          ]
        }
      ]
    },
    {
      "cell_type": "markdown",
      "source": [
        "Multiplicar una Serie por un escalar:\n"
      ],
      "metadata": {
        "id": "86xHbj_Eg4qd"
      }
    },
    {
      "cell_type": "code",
      "source": [
        "multiplicacion = serie1 * 2\n",
        "print(multiplicacion)"
      ],
      "metadata": {
        "id": "DyW6K_f_g2vY",
        "outputId": "4a2d11d1-7105-46ca-8ab6-13816e347fa0",
        "colab": {
          "base_uri": "https://localhost:8080/"
        }
      },
      "execution_count": 34,
      "outputs": [
        {
          "output_type": "stream",
          "name": "stdout",
          "text": [
            "0     20\n",
            "1     40\n",
            "2     60\n",
            "3     80\n",
            "4    100\n",
            "dtype: int64\n"
          ]
        }
      ]
    },
    {
      "cell_type": "markdown",
      "source": [
        "Dividir una Serie por otra:\n"
      ],
      "metadata": {
        "id": "cWTbM-7tkkRx"
      }
    },
    {
      "cell_type": "code",
      "source": [
        "division = serie1 / serie2\n",
        "print(division)"
      ],
      "metadata": {
        "id": "WKS9P_QRkksk",
        "outputId": "d2ff453d-ea3b-473e-cf53-647ff5e08a78",
        "colab": {
          "base_uri": "https://localhost:8080/"
        }
      },
      "execution_count": 35,
      "outputs": [
        {
          "output_type": "stream",
          "name": "stdout",
          "text": [
            "0    2.000000\n",
            "1    1.333333\n",
            "2    1.200000\n",
            "3    1.142857\n",
            "4    1.111111\n",
            "dtype: float64\n"
          ]
        }
      ]
    },
    {
      "cell_type": "markdown",
      "source": [
        "Calcular el cuadrado de una Serie:\n"
      ],
      "metadata": {
        "id": "ljymSHbqg2BN"
      }
    },
    {
      "cell_type": "code",
      "source": [
        "cuadrado = serie1 ** 2\n",
        "print(cuadrado)"
      ],
      "metadata": {
        "id": "3kiSebXWg-Cz",
        "outputId": "ec1d94fc-9bec-414f-df9b-e4a254c6f820",
        "colab": {
          "base_uri": "https://localhost:8080/"
        }
      },
      "execution_count": 36,
      "outputs": [
        {
          "output_type": "stream",
          "name": "stdout",
          "text": [
            "0     100\n",
            "1     400\n",
            "2     900\n",
            "3    1600\n",
            "4    2500\n",
            "dtype: int64\n"
          ]
        }
      ]
    },
    {
      "cell_type": "markdown",
      "source": [
        "Calcular la raíz cuadrada de una Serie:\n"
      ],
      "metadata": {
        "id": "qFbz_9GnhEvy"
      }
    },
    {
      "cell_type": "code",
      "source": [
        "import numpy as np\n",
        "\n",
        "raiz_cuadrada = np.sqrt(serie1)\n",
        "print(raiz_cuadrada)"
      ],
      "metadata": {
        "id": "ql3nPxVjhGfP",
        "outputId": "cca262b7-fc89-4de4-b1b7-7047896f7047",
        "colab": {
          "base_uri": "https://localhost:8080/"
        }
      },
      "execution_count": 37,
      "outputs": [
        {
          "output_type": "stream",
          "name": "stdout",
          "text": [
            "0    3.162278\n",
            "1    4.472136\n",
            "2    5.477226\n",
            "3    6.324555\n",
            "4    7.071068\n",
            "dtype: float64\n"
          ]
        }
      ]
    },
    {
      "cell_type": "code",
      "source": [
        "#Aplicamos la función logaritmo a nuestra serie\n",
        "np.log(serie1)\n"
      ],
      "metadata": {
        "id": "B9HqzEGBXo5v",
        "outputId": "0875452a-dae7-4ab4-b89a-9a7cb01d4ceb",
        "colab": {
          "base_uri": "https://localhost:8080/"
        }
      },
      "execution_count": 39,
      "outputs": [
        {
          "output_type": "execute_result",
          "data": {
            "text/plain": [
              "0    2.302585\n",
              "1    2.995732\n",
              "2    3.401197\n",
              "3    3.688879\n",
              "4    3.912023\n",
              "dtype: float64"
            ]
          },
          "metadata": {},
          "execution_count": 39
        }
      ]
    },
    {
      "cell_type": "code",
      "source": [
        "# (x + x**2)*log(x)  \"es como excel\"\n",
        "(serie1 +serie1**2)*np.log(serie1)"
      ],
      "metadata": {
        "id": "2sOUiqXIYMm9",
        "outputId": "b785a717-9d34-4c80-94d0-bea38d476f1f",
        "colab": {
          "base_uri": "https://localhost:8080/"
        }
      },
      "execution_count": 40,
      "outputs": [
        {
          "output_type": "execute_result",
          "data": {
            "text/plain": [
              "0     253.284360\n",
              "1    1258.207555\n",
              "2    3163.113565\n",
              "3    6049.762305\n",
              "4    9975.658664\n",
              "dtype: float64"
            ]
          },
          "metadata": {},
          "execution_count": 40
        }
      ]
    },
    {
      "cell_type": "code",
      "source": [
        "#sentencia apply lamda, se trabaja sobre series\n",
        "serie1.apply(lambda x:x**2)   #si tengo dataframe, saco una columna\" lo trato como x a la serie\n",
        "#esta forma puedo hacerla mas compleja, es mejor"
      ],
      "metadata": {
        "id": "idOGiIyEYw5u",
        "outputId": "7d0ff884-5092-4d72-c2aa-0bb42fdacda2",
        "colab": {
          "base_uri": "https://localhost:8080/"
        }
      },
      "execution_count": 41,
      "outputs": [
        {
          "output_type": "execute_result",
          "data": {
            "text/plain": [
              "0     100\n",
              "1     400\n",
              "2     900\n",
              "3    1600\n",
              "4    2500\n",
              "dtype: int64"
            ]
          },
          "metadata": {},
          "execution_count": 41
        }
      ]
    },
    {
      "cell_type": "code",
      "source": [
        "from math import exp\n",
        "serie1.apply(lambda x: 1/(1 + exp(x)))  # es muy potente, puedo aplicar lo que quiera"
      ],
      "metadata": {
        "id": "FwsPkqv4ZeTO",
        "outputId": "367a9332-7dda-4459-9d7d-5b7328d0e236",
        "colab": {
          "base_uri": "https://localhost:8080/"
        }
      },
      "execution_count": 43,
      "outputs": [
        {
          "output_type": "execute_result",
          "data": {
            "text/plain": [
              "0    4.539787e-05\n",
              "1    2.061154e-09\n",
              "2    9.357623e-14\n",
              "3    4.248354e-18\n",
              "4    1.928750e-22\n",
              "dtype: float64"
            ]
          },
          "metadata": {},
          "execution_count": 43
        }
      ]
    },
    {
      "cell_type": "code",
      "source": [
        "serie1.apply(lambda x: 1/(1 + exp(x)) if x> 10 else 0)"
      ],
      "metadata": {
        "id": "lQcXsc9iaAGd",
        "outputId": "52fb40bf-0f92-4924-e5bb-451ca42506dd",
        "colab": {
          "base_uri": "https://localhost:8080/"
        }
      },
      "execution_count": 44,
      "outputs": [
        {
          "output_type": "execute_result",
          "data": {
            "text/plain": [
              "0    0.000000e+00\n",
              "1    2.061154e-09\n",
              "2    9.357623e-14\n",
              "3    4.248354e-18\n",
              "4    1.928750e-22\n",
              "dtype: float64"
            ]
          },
          "metadata": {},
          "execution_count": 44
        }
      ]
    },
    {
      "cell_type": "code",
      "source": [
        "serie1.apply(lambda x: my_func(x))"
      ],
      "metadata": {
        "id": "fq9EiFqsaak7"
      },
      "execution_count": null,
      "outputs": []
    },
    {
      "cell_type": "code",
      "source": [
        "#aplica una transformacion a la serie de tal manera que se"
      ],
      "metadata": {
        "id": "qo6ooF99agM-"
      },
      "execution_count": null,
      "outputs": []
    },
    {
      "cell_type": "code",
      "source": [
        "serie = pd.Series([17, 25, 23, 12, 45, 34, 22, 19, 76])\n",
        "def evaluador_age(y):\n",
        "  if y>=18:\n",
        "    return \"Más de 18\"\n",
        "  else:\n",
        "    return \"Menos de 18\"\n",
        "serie.apply(lambda x: evaluador_age(x)) #creamos una serie diferente\n",
        "serie2\n"
      ],
      "metadata": {
        "id": "ADYvZrNcaqRY",
        "outputId": "15fdeb31-d703-43cd-a8bd-874b63107196",
        "colab": {
          "base_uri": "https://localhost:8080/"
        }
      },
      "execution_count": 46,
      "outputs": [
        {
          "output_type": "execute_result",
          "data": {
            "text/plain": [
              "0    Menos de 18\n",
              "1      Más de 18\n",
              "2      Más de 18\n",
              "3    Menos de 18\n",
              "4      Más de 18\n",
              "5      Más de 18\n",
              "6      Más de 18\n",
              "7      Más de 18\n",
              "8      Más de 18\n",
              "dtype: object"
            ]
          },
          "metadata": {},
          "execution_count": 46
        }
      ]
    },
    {
      "cell_type": "markdown",
      "source": [
        "Operaciones de tipo str (string)"
      ],
      "metadata": {
        "id": "9lQ6qDSsmY6Q"
      }
    },
    {
      "cell_type": "code",
      "source": [
        "datos = ['John', 'Luis', 'Pablo', 'Cesar']\n",
        "serie = pd.Series(datos)\n",
        "serie = serie.str.lower() # me tratas laserie como string"
      ],
      "metadata": {
        "id": "nF5kCjZxch9-"
      },
      "execution_count": null,
      "outputs": []
    },
    {
      "cell_type": "code",
      "source": [
        "datos = ['John', 'Luis', 'Pablo', 'Cesar']\n",
        "serie = pd.Series(datos)\n",
        "serie = apply[lambda (lower)] # me tratas laserie como string"
      ],
      "metadata": {
        "id": "XKyzRsoLcwMu",
        "outputId": "5966b355-02e7-41ca-c5c9-8beb2e199bd7",
        "colab": {
          "base_uri": "https://localhost:8080/",
          "height": 130
        }
      },
      "execution_count": 48,
      "outputs": [
        {
          "output_type": "error",
          "ename": "SyntaxError",
          "evalue": "ignored",
          "traceback": [
            "\u001b[0;36m  File \u001b[0;32m\"<ipython-input-48-e052c591c6ac>\"\u001b[0;36m, line \u001b[0;32m3\u001b[0m\n\u001b[0;31m    serie = apply[lambda (lower)] # me tratas laserie como string\u001b[0m\n\u001b[0m                         ^\u001b[0m\n\u001b[0;31mSyntaxError\u001b[0m\u001b[0;31m:\u001b[0m invalid syntax\n"
          ]
        }
      ]
    },
    {
      "cell_type": "code",
      "source": [
        "datos = ['John', 'Luis', 'Pablo', 'Cesar']\n",
        "serie = pd.Series(datos)\n",
        "serie = serie.str.lower()\n",
        "\n",
        "print(serie)"
      ],
      "metadata": {
        "id": "sAXh8NjCmZLA"
      },
      "execution_count": null,
      "outputs": []
    },
    {
      "cell_type": "code",
      "source": [
        "datos = ['john', 'luis', 'pablo', 'cesar']\n",
        "serie = pd.Series(datos)\n",
        "serie = serie.str.upper()\n",
        "\n",
        "print(serie)"
      ],
      "metadata": {
        "id": "yRkIEmHImoQb"
      },
      "execution_count": null,
      "outputs": []
    },
    {
      "cell_type": "code",
      "source": [
        "datos = ['john', 'luis', 'pablo', 'cesar']\n",
        "serie = pd.Series(datos)\n",
        "serie = serie.str.capitalize()\n",
        "\n",
        "print(serie)"
      ],
      "metadata": {
        "id": "E7gMCHcNms4C"
      },
      "execution_count": null,
      "outputs": []
    },
    {
      "cell_type": "markdown",
      "source": [
        "Algunas operaciones estadísticas"
      ],
      "metadata": {
        "id": "sTYZ2k23nQEO"
      }
    },
    {
      "cell_type": "code",
      "source": [
        "#Funciones de tipo rediws: recoleccion de todos los elementos, es pesado\n",
        "datos = [2, 4, 2, 5, 1, 3]\n",
        "serie = pd.Series(datos)\n",
        "\n",
        "serie"
      ],
      "metadata": {
        "id": "ZV36FYpfdW3G",
        "outputId": "eae07aed-fef5-425d-92f0-db0def996432",
        "colab": {
          "base_uri": "https://localhost:8080/"
        }
      },
      "execution_count": 49,
      "outputs": [
        {
          "output_type": "execute_result",
          "data": {
            "text/plain": [
              "0    2\n",
              "1    4\n",
              "2    2\n",
              "3    5\n",
              "4    1\n",
              "5    3\n",
              "dtype: int64"
            ]
          },
          "metadata": {},
          "execution_count": 49
        }
      ]
    },
    {
      "cell_type": "code",
      "source": [
        "serie.mean() #promedio, es reduccion de pandas series por eso no necesito importar"
      ],
      "metadata": {
        "id": "G2hXDanIdoUV",
        "outputId": "bb8835a6-6fd9-417f-b619-aa991ebe4805",
        "colab": {
          "base_uri": "https://localhost:8080/"
        }
      },
      "execution_count": 50,
      "outputs": [
        {
          "output_type": "execute_result",
          "data": {
            "text/plain": [
              "2.8333333333333335"
            ]
          },
          "metadata": {},
          "execution_count": 50
        }
      ]
    },
    {
      "cell_type": "code",
      "source": [
        "serie.std() #desviacion estandar"
      ],
      "metadata": {
        "id": "jgWsMs9KdrT9",
        "outputId": "ebd1af20-e657-41b9-9e73-7cbf1a449eb9",
        "colab": {
          "base_uri": "https://localhost:8080/"
        }
      },
      "execution_count": 51,
      "outputs": [
        {
          "output_type": "execute_result",
          "data": {
            "text/plain": [
              "1.4719601443879746"
            ]
          },
          "metadata": {},
          "execution_count": 51
        }
      ]
    },
    {
      "cell_type": "code",
      "source": [
        "\n",
        "datos = [2, 4, 2, 5, 1, 3]\n",
        "serie = pd.Series(datos)\n",
        "\n",
        "media = serie.mean()\n",
        "desviacion_estandar = serie.std()\n",
        "\n",
        "print(\"Media:\", media)\n",
        "print(\"Desviación estándar:\", desviacion_estandar)"
      ],
      "metadata": {
        "id": "RwcODv3xnIbV"
      },
      "execution_count": null,
      "outputs": []
    },
    {
      "cell_type": "code",
      "source": [
        "serie.describe() #hace mucho, promedio, desviacion y conteo\n"
      ],
      "metadata": {
        "id": "-FgcZFNWd88F",
        "outputId": "81359655-f854-4c6e-a435-80fb2598d9b1",
        "colab": {
          "base_uri": "https://localhost:8080/"
        }
      },
      "execution_count": 52,
      "outputs": [
        {
          "output_type": "execute_result",
          "data": {
            "text/plain": [
              "count    6.000000\n",
              "mean     2.833333\n",
              "std      1.471960\n",
              "min      1.000000\n",
              "25%      2.000000\n",
              "50%      2.500000\n",
              "75%      3.750000\n",
              "max      5.000000\n",
              "dtype: float64"
            ]
          },
          "metadata": {},
          "execution_count": 52
        }
      ]
    },
    {
      "cell_type": "markdown",
      "source": [
        "si quiero buscar mas, voy a web: pandas. DataFrame.describe"
      ],
      "metadata": {
        "id": "36FTh9zdeHxR"
      }
    },
    {
      "cell_type": "code",
      "source": [
        "# Para graficar, la funcion facil de pandas es hist\n",
        "serie.hist()"
      ],
      "metadata": {
        "id": "PcOfoI95eYwu",
        "outputId": "db5538c0-fb13-4ddb-f756-1d417e040ada",
        "colab": {
          "base_uri": "https://localhost:8080/",
          "height": 447
        }
      },
      "execution_count": 54,
      "outputs": [
        {
          "output_type": "execute_result",
          "data": {
            "text/plain": [
              "<Axes: >"
            ]
          },
          "metadata": {},
          "execution_count": 54
        },
        {
          "output_type": "display_data",
          "data": {
            "text/plain": [
              "<Figure size 640x480 with 1 Axes>"
            ],
            "image/png": "[encoded data removed]"
          },
          "metadata": {}
        }
      ]
    },
    {
      "cell_type": "code",
      "source": [
        "serie.tolist() #vuelvo hacer lista"
      ],
      "metadata": {
        "id": "th9qrYEafmCI",
        "outputId": "ef1620ff-c018-47db-d23d-3ac5ea330bdb",
        "colab": {
          "base_uri": "https://localhost:8080/"
        }
      },
      "execution_count": 56,
      "outputs": [
        {
          "output_type": "execute_result",
          "data": {
            "text/plain": [
              "[2, 4, 2, 5, 1, 3]"
            ]
          },
          "metadata": {},
          "execution_count": 56
        }
      ]
    },
    {
      "cell_type": "markdown",
      "source": [
        "**Ejercicio 1**\n",
        "\n",
        "Crear una Serie con números enteros del 1 al 10 como índices y sus respectivos cuadrados como datos."
      ],
      "metadata": {
        "id": "2aKoNn1tj0mF"
      }
    },
    {
      "cell_type": "markdown",
      "source": [
        "**Ejercicio 2**\n",
        "\n",
        "Crear dos Series con los siguientes datos y luego sumarlas.\n",
        "\n",
        "> Serie 1: [10, 20, 30, 40, 50]\n",
        ">\n",
        "> Serie 2: [5, 15, 25, 35, 45]"
      ],
      "metadata": {
        "id": "tcuJ80MZkAaN"
      }
    },
    {
      "cell_type": "markdown",
      "source": [
        "**Ejercicio 3**\n",
        "\n",
        "Crear una Serie a partir de una lista de cadenas y convertir todas las letras a minúsculas.\n",
        "\n",
        "Datos: ['Manzana', 'Banana', 'Naranja', 'Pera']"
      ],
      "metadata": {
        "id": "ZDkN7x-FlaNu"
      }
    },
    {
      "cell_type": "markdown",
      "source": [
        "**Ejercicio 4**\n",
        "\n",
        "Crear una Serie con los siguientes datos y calcular la media y la desviación estándar.\n",
        "\n",
        "Datos: [15, 22, 18, 25, 20]"
      ],
      "metadata": {
        "id": "1avhdEZOlzp4"
      }
    },
    {
      "cell_type": "markdown",
      "source": [
        "**Ejercicio 5**\n",
        "\n",
        "Crear una Serie a partir de una lista y reemplazar un valor específico por otro.\n",
        "\n",
        "Datos: [5, 10, 15, 20, 25]\n",
        "Reemplazar el valor 15 por 30."
      ],
      "metadata": {
        "id": "7_v-1dgkmAI7"
      }
    },
    {
      "cell_type": "markdown",
      "source": [
        "**Ejercicio 6**\n",
        "\n",
        "Crear una Serie con los siguientes datos y mostrar los valores únicos.\n",
        "\n",
        "Datos: ['manzana', 'pera', 'manzana', 'plátano', 'manzana', 'pera']"
      ],
      "metadata": {
        "id": "4NmjRIkUmJgf"
      }
    },
    {
      "cell_type": "code",
      "source": [
        "#Los de 1 al 6 son opcionales"
      ],
      "metadata": {
        "id": "SVlTP3XcesZm"
      },
      "execution_count": null,
      "outputs": []
    },
    {
      "cell_type": "markdown",
      "source": [
        "Ejercicio obligatorio: Cree una serie de pandas con 1000 valores aleatorios con distribución normal, luego, grafique este ressultadoutilizando pandas hist. Trabajar con random.norm (investigar)"
      ],
      "metadata": {
        "id": "Cgky-7T1e_AX"
      }
    },
    {
      "cell_type": "markdown",
      "source": [
        "## 2. DataFrames en Pandas"
      ],
      "metadata": {
        "id": "ho99ogOXXERi"
      }
    },
    {
      "cell_type": "markdown",
      "source": [
        "* Es una estructura de datos bidimensional que se utiliza para almacenar y manipular datos.\n",
        "* Se puede pensar en un DataFrame como una tabla en una base de datos o una hoja de cálculo en Excel.\n",
        "* Está compuesto por filas y columnas, donde cada columna puede contener datos de un tipo diferente (enteros, flotantes, cadenas, etc.).\n",
        "\n",
        "Un DataFrame en Pandas se puede crear de varias formas, pero comúnmente se utiliza para almacenar datos provenientes de archivos CSV, bases de datos o mediante la combinación de otras estructuras de datos, como Series."
      ],
      "metadata": {
        "id": "atDJsK1vnnTk"
      }
    },
    {
      "cell_type": "markdown",
      "source": [
        "### Creación de DataFrames"
      ],
      "metadata": {
        "id": "dtH7DVj_dsYj"
      }
    },
    {
      "cell_type": "markdown",
      "source": [
        "### Carga de datos desde diferentes fuentes (CSV, Excel, SQL, etc.)"
      ],
      "metadata": {
        "id": "8lEMRLv-duqQ"
      }
    },
    {
      "cell_type": "markdown",
      "source": [
        "### Exploración y manipulación de DataFrames"
      ],
      "metadata": {
        "id": "smRAmlIWd4HY"
      }
    },
    {
      "cell_type": "code",
      "source": [],
      "metadata": {
        "id": "QtcfHZ6Gd2K8"
      },
      "execution_count": null,
      "outputs": []
    },
    {
      "cell_type": "markdown",
      "source": [
        "## 3. Indexación y selección de datos en DataFrames"
      ],
      "metadata": {
        "id": "pvd9q3w1XP8R"
      }
    },
    {
      "cell_type": "markdown",
      "source": [
        "## 4. Limpieza y manipulación de datos"
      ],
      "metadata": {
        "id": "vWDGyChMXgGk"
      }
    },
    {
      "cell_type": "markdown",
      "source": [
        "## 5. Operaciones y transformaciones en DataFrames"
      ],
      "metadata": {
        "id": "skqbT7c7XjM-"
      }
    },
    {
      "cell_type": "markdown",
      "source": [
        "## 6. Visualización de datos con Pandas"
      ],
      "metadata": {
        "id": "b0lm-YkdXmyd"
      }
    },
    {
      "cell_type": "code",
      "execution_count": null,
      "metadata": {
        "id": "W7oAbzKbVhwa"
      },
      "outputs": [],
      "source": []
    },
    {
      "cell_type": "markdown",
      "source": [
        "---\n",
        "\n",
        "# Gracias por completar este laboratorio!\n",
        "\n",
        "---\n",
        "\n"
      ],
      "metadata": {
        "id": "oTLHpID8er3c"
      }
    }
  ]
}